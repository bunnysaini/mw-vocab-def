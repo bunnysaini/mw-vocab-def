{
  "nbformat": 4,
  "nbformat_minor": 0,
  "metadata": {
    "colab": {
      "provenance": [],
      "authorship_tag": "ABX9TyPtY81W7Vy43IEvJWHfGovn"
    },
    "kernelspec": {
      "name": "python3",
      "display_name": "Python 3"
    },
    "language_info": {
      "name": "python"
    },
    "widgets": {
      "application/vnd.jupyter.widget-state+json": {
        "3e8ebba84d2f4f92a567895a6352ab2d": {
          "model_module": "@jupyter-widgets/controls",
          "model_name": "HBoxModel",
          "model_module_version": "1.5.0",
          "state": {
            "_dom_classes": [],
            "_model_module": "@jupyter-widgets/controls",
            "_model_module_version": "1.5.0",
            "_model_name": "HBoxModel",
            "_view_count": null,
            "_view_module": "@jupyter-widgets/controls",
            "_view_module_version": "1.5.0",
            "_view_name": "HBoxView",
            "box_style": "",
            "children": [
              "IPY_MODEL_c6a1c269b38e48e59bd0331fb81c1c60",
              "IPY_MODEL_63522310970042cd9860c66322b5846c",
              "IPY_MODEL_affb39fa990a4dea9f593e035deb4be4"
            ],
            "layout": "IPY_MODEL_fa73c27759f141c1a4cfdaacd9a54abf"
          }
        },
        "c6a1c269b38e48e59bd0331fb81c1c60": {
          "model_module": "@jupyter-widgets/controls",
          "model_name": "HTMLModel",
          "model_module_version": "1.5.0",
          "state": {
            "_dom_classes": [],
            "_model_module": "@jupyter-widgets/controls",
            "_model_module_version": "1.5.0",
            "_model_name": "HTMLModel",
            "_view_count": null,
            "_view_module": "@jupyter-widgets/controls",
            "_view_module_version": "1.5.0",
            "_view_name": "HTMLView",
            "description": "",
            "description_tooltip": null,
            "layout": "IPY_MODEL_8e9b983a6e3c4500869b5b51585df30e",
            "placeholder": "​",
            "style": "IPY_MODEL_38246813e56f4f8c936a1e33f5b36c89",
            "value": "Processing Words: 100%"
          }
        },
        "63522310970042cd9860c66322b5846c": {
          "model_module": "@jupyter-widgets/controls",
          "model_name": "FloatProgressModel",
          "model_module_version": "1.5.0",
          "state": {
            "_dom_classes": [],
            "_model_module": "@jupyter-widgets/controls",
            "_model_module_version": "1.5.0",
            "_model_name": "FloatProgressModel",
            "_view_count": null,
            "_view_module": "@jupyter-widgets/controls",
            "_view_module_version": "1.5.0",
            "_view_name": "ProgressView",
            "bar_style": "success",
            "description": "",
            "description_tooltip": null,
            "layout": "IPY_MODEL_6c6bb487b78e4f6a91dae049290e5c52",
            "max": 995,
            "min": 0,
            "orientation": "horizontal",
            "style": "IPY_MODEL_4ed3f0b50f8c4e72a2827dd0a431d033",
            "value": 995
          }
        },
        "affb39fa990a4dea9f593e035deb4be4": {
          "model_module": "@jupyter-widgets/controls",
          "model_name": "HTMLModel",
          "model_module_version": "1.5.0",
          "state": {
            "_dom_classes": [],
            "_model_module": "@jupyter-widgets/controls",
            "_model_module_version": "1.5.0",
            "_model_name": "HTMLModel",
            "_view_count": null,
            "_view_module": "@jupyter-widgets/controls",
            "_view_module_version": "1.5.0",
            "_view_name": "HTMLView",
            "description": "",
            "description_tooltip": null,
            "layout": "IPY_MODEL_60756424d00743318bffbb4889911820",
            "placeholder": "​",
            "style": "IPY_MODEL_08a13d4845da46d2bb916479d4bb5cb8",
            "value": " 995/995 [10:42&lt;00:00,  1.58it/s]"
          }
        },
        "fa73c27759f141c1a4cfdaacd9a54abf": {
          "model_module": "@jupyter-widgets/base",
          "model_name": "LayoutModel",
          "model_module_version": "1.2.0",
          "state": {
            "_model_module": "@jupyter-widgets/base",
            "_model_module_version": "1.2.0",
            "_model_name": "LayoutModel",
            "_view_count": null,
            "_view_module": "@jupyter-widgets/base",
            "_view_module_version": "1.2.0",
            "_view_name": "LayoutView",
            "align_content": null,
            "align_items": null,
            "align_self": null,
            "border": null,
            "bottom": null,
            "display": null,
            "flex": null,
            "flex_flow": null,
            "grid_area": null,
            "grid_auto_columns": null,
            "grid_auto_flow": null,
            "grid_auto_rows": null,
            "grid_column": null,
            "grid_gap": null,
            "grid_row": null,
            "grid_template_areas": null,
            "grid_template_columns": null,
            "grid_template_rows": null,
            "height": null,
            "justify_content": null,
            "justify_items": null,
            "left": null,
            "margin": null,
            "max_height": null,
            "max_width": null,
            "min_height": null,
            "min_width": null,
            "object_fit": null,
            "object_position": null,
            "order": null,
            "overflow": null,
            "overflow_x": null,
            "overflow_y": null,
            "padding": null,
            "right": null,
            "top": null,
            "visibility": null,
            "width": null
          }
        },
        "8e9b983a6e3c4500869b5b51585df30e": {
          "model_module": "@jupyter-widgets/base",
          "model_name": "LayoutModel",
          "model_module_version": "1.2.0",
          "state": {
            "_model_module": "@jupyter-widgets/base",
            "_model_module_version": "1.2.0",
            "_model_name": "LayoutModel",
            "_view_count": null,
            "_view_module": "@jupyter-widgets/base",
            "_view_module_version": "1.2.0",
            "_view_name": "LayoutView",
            "align_content": null,
            "align_items": null,
            "align_self": null,
            "border": null,
            "bottom": null,
            "display": null,
            "flex": null,
            "flex_flow": null,
            "grid_area": null,
            "grid_auto_columns": null,
            "grid_auto_flow": null,
            "grid_auto_rows": null,
            "grid_column": null,
            "grid_gap": null,
            "grid_row": null,
            "grid_template_areas": null,
            "grid_template_columns": null,
            "grid_template_rows": null,
            "height": null,
            "justify_content": null,
            "justify_items": null,
            "left": null,
            "margin": null,
            "max_height": null,
            "max_width": null,
            "min_height": null,
            "min_width": null,
            "object_fit": null,
            "object_position": null,
            "order": null,
            "overflow": null,
            "overflow_x": null,
            "overflow_y": null,
            "padding": null,
            "right": null,
            "top": null,
            "visibility": null,
            "width": null
          }
        },
        "38246813e56f4f8c936a1e33f5b36c89": {
          "model_module": "@jupyter-widgets/controls",
          "model_name": "DescriptionStyleModel",
          "model_module_version": "1.5.0",
          "state": {
            "_model_module": "@jupyter-widgets/controls",
            "_model_module_version": "1.5.0",
            "_model_name": "DescriptionStyleModel",
            "_view_count": null,
            "_view_module": "@jupyter-widgets/base",
            "_view_module_version": "1.2.0",
            "_view_name": "StyleView",
            "description_width": ""
          }
        },
        "6c6bb487b78e4f6a91dae049290e5c52": {
          "model_module": "@jupyter-widgets/base",
          "model_name": "LayoutModel",
          "model_module_version": "1.2.0",
          "state": {
            "_model_module": "@jupyter-widgets/base",
            "_model_module_version": "1.2.0",
            "_model_name": "LayoutModel",
            "_view_count": null,
            "_view_module": "@jupyter-widgets/base",
            "_view_module_version": "1.2.0",
            "_view_name": "LayoutView",
            "align_content": null,
            "align_items": null,
            "align_self": null,
            "border": null,
            "bottom": null,
            "display": null,
            "flex": null,
            "flex_flow": null,
            "grid_area": null,
            "grid_auto_columns": null,
            "grid_auto_flow": null,
            "grid_auto_rows": null,
            "grid_column": null,
            "grid_gap": null,
            "grid_row": null,
            "grid_template_areas": null,
            "grid_template_columns": null,
            "grid_template_rows": null,
            "height": null,
            "justify_content": null,
            "justify_items": null,
            "left": null,
            "margin": null,
            "max_height": null,
            "max_width": null,
            "min_height": null,
            "min_width": null,
            "object_fit": null,
            "object_position": null,
            "order": null,
            "overflow": null,
            "overflow_x": null,
            "overflow_y": null,
            "padding": null,
            "right": null,
            "top": null,
            "visibility": null,
            "width": null
          }
        },
        "4ed3f0b50f8c4e72a2827dd0a431d033": {
          "model_module": "@jupyter-widgets/controls",
          "model_name": "ProgressStyleModel",
          "model_module_version": "1.5.0",
          "state": {
            "_model_module": "@jupyter-widgets/controls",
            "_model_module_version": "1.5.0",
            "_model_name": "ProgressStyleModel",
            "_view_count": null,
            "_view_module": "@jupyter-widgets/base",
            "_view_module_version": "1.2.0",
            "_view_name": "StyleView",
            "bar_color": null,
            "description_width": ""
          }
        },
        "60756424d00743318bffbb4889911820": {
          "model_module": "@jupyter-widgets/base",
          "model_name": "LayoutModel",
          "model_module_version": "1.2.0",
          "state": {
            "_model_module": "@jupyter-widgets/base",
            "_model_module_version": "1.2.0",
            "_model_name": "LayoutModel",
            "_view_count": null,
            "_view_module": "@jupyter-widgets/base",
            "_view_module_version": "1.2.0",
            "_view_name": "LayoutView",
            "align_content": null,
            "align_items": null,
            "align_self": null,
            "border": null,
            "bottom": null,
            "display": null,
            "flex": null,
            "flex_flow": null,
            "grid_area": null,
            "grid_auto_columns": null,
            "grid_auto_flow": null,
            "grid_auto_rows": null,
            "grid_column": null,
            "grid_gap": null,
            "grid_row": null,
            "grid_template_areas": null,
            "grid_template_columns": null,
            "grid_template_rows": null,
            "height": null,
            "justify_content": null,
            "justify_items": null,
            "left": null,
            "margin": null,
            "max_height": null,
            "max_width": null,
            "min_height": null,
            "min_width": null,
            "object_fit": null,
            "object_position": null,
            "order": null,
            "overflow": null,
            "overflow_x": null,
            "overflow_y": null,
            "padding": null,
            "right": null,
            "top": null,
            "visibility": null,
            "width": null
          }
        },
        "08a13d4845da46d2bb916479d4bb5cb8": {
          "model_module": "@jupyter-widgets/controls",
          "model_name": "DescriptionStyleModel",
          "model_module_version": "1.5.0",
          "state": {
            "_model_module": "@jupyter-widgets/controls",
            "_model_module_version": "1.5.0",
            "_model_name": "DescriptionStyleModel",
            "_view_count": null,
            "_view_module": "@jupyter-widgets/base",
            "_view_module_version": "1.2.0",
            "_view_name": "StyleView",
            "description_width": ""
          }
        }
      }
    }
  },
  "cells": [
    {
      "cell_type": "markdown",
      "source": [
        "# **Merriam-Webster Vocab Definitions**"
      ],
      "metadata": {
        "id": "ZrrztrFYEIIe"
      }
    },
    {
      "cell_type": "markdown",
      "source": [
        "Use this workbook to input a list of words, and recieve their definitions from Merriam-Webster (https://www.merriam-webster.com/)"
      ],
      "metadata": {
        "id": "qvJtcI_-Elah"
      }
    },
    {
      "cell_type": "markdown",
      "source": [
        "# Import Libraries"
      ],
      "metadata": {
        "id": "q7SEXmz0E4Eo"
      }
    },
    {
      "cell_type": "code",
      "source": [
        "# Install tqdm or any missing libraries\n",
        "!pip install tqdm"
      ],
      "metadata": {
        "colab": {
          "base_uri": "https://localhost:8080/"
        },
        "id": "22yzHbyl4MQN",
        "outputId": "c5c4adc7-eb4b-45aa-9ec9-f4139f7b09d9"
      },
      "execution_count": null,
      "outputs": [
        {
          "output_type": "stream",
          "name": "stdout",
          "text": [
            "Requirement already satisfied: tqdm in /usr/local/lib/python3.10/dist-packages (4.66.2)\n"
          ]
        }
      ]
    },
    {
      "cell_type": "code",
      "execution_count": 160,
      "metadata": {
        "id": "qXOAAM-l5GzU"
      },
      "outputs": [],
      "source": [
        "#Import Libraries\n",
        "import requests                         # to make API calls\n",
        "import re                               # to clean up API response\n",
        "import csv                              # to generate csv of definitions\n",
        "from bs4 import BeautifulSoup           # to handle tags in API response\n",
        "from tqdm.notebook import tqdm          # for a progressbar while execution\n",
        "from google.colab import userdata       # use: if you are utilizing a Google Colab workbook and store your API Key as a Secret"
      ]
    },
    {
      "cell_type": "markdown",
      "source": [
        "# Import Input Data"
      ],
      "metadata": {
        "id": "NhRt26aaFuXQ"
      }
    },
    {
      "cell_type": "markdown",
      "source": [
        "If you have a long list of words you would like to search MW-Dictionary for, enter them in a CSV file with a header.\n",
        "\n",
        "![Screenshot 2024-03-29 at 5.34.18 PM.png](data:image/png;base64,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)"
      ],
      "metadata": {
        "id": "3wCUttO9F6_h"
      }
    },
    {
      "cell_type": "code",
      "source": [
        "# Path to your CSV file\n",
        "csv_file_path = 'word_input.csv'\n",
        "\n",
        "# Initialize an empty list which contains the words\n",
        "words = []\n",
        "\n",
        "# Open the CSV file and read words\n",
        "with open(csv_file_path, mode='r', encoding='utf-8-sig') as csvfile:\n",
        "    csvreader = csv.reader(csvfile)\n",
        "    #Skip header\n",
        "    next(csvreader)\n",
        "    for row in csvreader:\n",
        "      #Uses row 0 assuming words are in first col.\n",
        "        words.append(row[0])"
      ],
      "metadata": {
        "id": "H6VIUQy4rsxj"
      },
      "execution_count": 161,
      "outputs": []
    },
    {
      "cell_type": "code",
      "source": [
        "# Alternatively, if you just want to search the meanings of a handful of words,\n",
        "# comment the previous cell and define a list here:\n",
        "# words = ['absolve, 'detention, 'frost', 'laugh']"
      ],
      "metadata": {
        "id": "IrNxwyeeNIue"
      },
      "execution_count": 163,
      "outputs": []
    },
    {
      "cell_type": "code",
      "source": [
        "#Check the length of words if all of them were imported correctly\n",
        "len(words)"
      ],
      "metadata": {
        "colab": {
          "base_uri": "https://localhost:8080/"
        },
        "id": "Nni9zaBRslba",
        "outputId": "58ac8db8-5ed0-415d-de0f-e824c0383d01"
      },
      "execution_count": 162,
      "outputs": [
        {
          "output_type": "execute_result",
          "data": {
            "text/plain": [
              "995"
            ]
          },
          "metadata": {},
          "execution_count": 162
        }
      ]
    },
    {
      "cell_type": "code",
      "source": [
        "#Setup Variables\n",
        "\n",
        "# if your API Key is stored in Colab as a secret named 'apiKey'\n",
        "MW_API_KEY = userdata.get('apiKey')\n",
        "\n",
        "# alternatively you could store your API Key in code\n",
        "#MW_API_KEY = \"\"\n",
        "\n",
        "# for reference purposes this is the endpoint provided in M-W API Documentation\n",
        "ENDPOINT = \"https://www.dictionaryapi.com/api/v3/references/collegiate/json/\"\n",
        "# this endpoint can be hit by providing a word and api-key like:, you can paste this in your browser with a word and api key to check\n",
        "URL = \"https://www.dictionaryapi.com/api/v3/references/collegiate/json/word?key=MW_API_KEY\""
      ],
      "metadata": {
        "id": "3iHcTjzs9Pw8"
      },
      "execution_count": 164,
      "outputs": []
    },
    {
      "cell_type": "markdown",
      "source": [
        "# Fetch Definitions"
      ],
      "metadata": {
        "id": "JPQR_YfuIyLc"
      }
    },
    {
      "cell_type": "code",
      "source": [
        "# to store final data, used as input for csvwriter\n",
        "csv_rows = []\n",
        "\n",
        "# function to clean html tags from the M-W API response\n",
        "def clean_html(raw_html):\n",
        "    return BeautifulSoup(raw_html, \"html.parser\").get_text()\n",
        "\n",
        "#    function which iterates the 'sense' in which the API response is provided\n",
        "#    The sense is a key organizational unit of the entry,\n",
        "#    and gathers together all content relevant to a particular meaning of a headword.\n",
        "#    (From M-W Documentation)\n",
        "\n",
        "def parse_sense(sense):\n",
        "    if 'dt' in sense:\n",
        "        # extract definition from 'dt'\n",
        "        for dt in sense['dt']:\n",
        "            if isinstance(dt, list) and dt[0] == \"text\":\n",
        "                return clean_html(dt[1])\n",
        "    elif isinstance(sense, list):\n",
        "        # If sense is a list, iterate over its elements\n",
        "        for item in sense:\n",
        "            result = parse_sense(item)\n",
        "            if result:\n",
        "                return result\n",
        "    return None\n",
        "\n",
        "# main function for parsing API response\n",
        "for word in tqdm(words, desc='Processing Words'):\n",
        "    response = requests.get(f'https://www.dictionaryapi.com/api/v3/references/collegiate/json/{word}?key={MW_API_KEY}')\n",
        "    definitions = []\n",
        "    if response.status_code == 200:\n",
        "        data = response.json()\n",
        "        # Check if data is not None & not empty\n",
        "        if data and data != [None]:\n",
        "            for entry in data:\n",
        "                # Additional check to ensure 'entry' is not None\n",
        "                if entry and 'def' in entry:\n",
        "                    for sense in entry['def'][0]['sseq']:\n",
        "                        definition = parse_sense(sense)\n",
        "                        if definition:\n",
        "                            definitions.append(definition)\n",
        "                        if len(definitions) >= 4:  # Limit to first 3-4 definitions\n",
        "                            break\n",
        "                    if definitions:\n",
        "                        break\n",
        "        else:\n",
        "            # Handle the case where the API returns [null] or an empty response\n",
        "            definitions.append('No definition found: null response')\n",
        "    else:\n",
        "        definitions.append('Failed to fetch meaning: API error')\n",
        "\n",
        "    row = [word] + definitions if definitions else [word, 'No definition found']\n",
        "    csv_rows.append(row)"
      ],
      "metadata": {
        "colab": {
          "base_uri": "https://localhost:8080/",
          "height": 103,
          "referenced_widgets": [
            "3e8ebba84d2f4f92a567895a6352ab2d",
            "c6a1c269b38e48e59bd0331fb81c1c60",
            "63522310970042cd9860c66322b5846c",
            "affb39fa990a4dea9f593e035deb4be4",
            "fa73c27759f141c1a4cfdaacd9a54abf",
            "8e9b983a6e3c4500869b5b51585df30e",
            "38246813e56f4f8c936a1e33f5b36c89",
            "6c6bb487b78e4f6a91dae049290e5c52",
            "4ed3f0b50f8c4e72a2827dd0a431d033",
            "60756424d00743318bffbb4889911820",
            "08a13d4845da46d2bb916479d4bb5cb8"
          ]
        },
        "id": "-4pX7puRk61t",
        "outputId": "0d574bd4-b96f-4cb3-8eed-22993ea997dc"
      },
      "execution_count": 165,
      "outputs": [
        {
          "output_type": "display_data",
          "data": {
            "text/plain": [
              "Processing Words:   0%|          | 0/995 [00:00<?, ?it/s]"
            ],
            "application/vnd.jupyter.widget-view+json": {
              "version_major": 2,
              "version_minor": 0,
              "model_id": "3e8ebba84d2f4f92a567895a6352ab2d"
            }
          },
          "metadata": {}
        },
        {
          "output_type": "stream",
          "name": "stderr",
          "text": [
            "<ipython-input-165-a51376501010>:6: MarkupResemblesLocatorWarning: The input looks more like a filename than markup. You may want to open this file and pass the filehandle into Beautiful Soup.\n",
            "  return BeautifulSoup(raw_html, \"html.parser\").get_text()\n"
          ]
        }
      ]
    },
    {
      "cell_type": "markdown",
      "source": [
        "# Create Ouput File"
      ],
      "metadata": {
        "id": "SI9KbyShKw6E"
      }
    },
    {
      "cell_type": "code",
      "source": [
        "# Function to clean up the API output, if beautifulsoup didn't target properly\n",
        "def clean_definition_text(text):\n",
        "\n",
        "    text = re.sub(r'\\{bc\\}', '', text)  # Remove {bc} tags entirely\n",
        "    text = re.sub(r'\\{sx\\|([^|]+)\\|\\|.*?\\}', r'\\1', text)\n",
        "    text = re.sub(r'\\{[ad]_link\\|([^}]+)\\}', r'\\1', text)\n",
        "    text = re.sub(r'\\{dx\\}see \\{dxt\\|([^:]+):[^|]+\\|\\|.*?\\}\\{/dx\\}', r'see \\1', text)\n",
        "    text = re.sub(r'\\{it\\}(.*?){\\/it\\}', r'\\1', text)\n",
        "\n",
        "    return text.strip()\n",
        "\n",
        "# Assuming csv_rows is already populated as shown\n",
        "cleaned_csv_rows = []\n",
        "for row in csv_rows:\n",
        "    word = row[0]\n",
        "    cleaned_definitions = [clean_definition_text(definition) for definition in row[1:]]\n",
        "    cleaned_csv_rows.append([word] + cleaned_definitions)\n",
        "\n",
        "# Write to CSV\n",
        "header = ['Word', 'Definition 1', 'Definition 2', 'Definition 3', 'Definition 4']\n",
        "\n",
        "with open('mv_definitions.csv', 'w', newline='', encoding='utf-8') as csvfile:\n",
        "    writer = csv.writer(csvfile)\n",
        "    writer.writerow(header)\n",
        "\n",
        "    for row in cleaned_csv_rows:\n",
        "        # Ensure the row has the correct number of elements\n",
        "        row_length = len(row)\n",
        "        expected_length = len(header)\n",
        "\n",
        "        # If the row is shorter, pad it with empty strings\n",
        "        if row_length < expected_length:\n",
        "            row += [''] * (expected_length - row_length)\n",
        "\n",
        "        # If the row is longer, truncate it to match the expected length\n",
        "        elif row_length > expected_length:\n",
        "            row = row[:expected_length]\n",
        "\n",
        "        writer.writerow(row)\n",
        "\n",
        "print(\"CSV file 'mv_definitions.csv' has been created.\")"
      ],
      "metadata": {
        "colab": {
          "base_uri": "https://localhost:8080/"
        },
        "id": "scWgH6shlC9S",
        "outputId": "498fa159-2fd7-4d28-eda6-bf11f69134e0"
      },
      "execution_count": 166,
      "outputs": [
        {
          "output_type": "stream",
          "name": "stdout",
          "text": [
            "CSV file 'mv_definitions.csv' has been created.\n"
          ]
        }
      ]
    }
  ]
}
